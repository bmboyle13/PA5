{
 "cells": [
  {
   "cell_type": "markdown",
   "id": "2a287053",
   "metadata": {},
   "source": [
    "# Brandon Boyle\n",
    "## assignment 5\n",
    "### version 1\n",
    "#### cs-150-01"
   ]
  },
  {
   "cell_type": "code",
   "execution_count": 1,
   "id": "36ba543e",
   "metadata": {},
   "outputs": [
    {
     "name": "stdout",
     "output_type": "stream",
     "text": [
      "Enter an English word to translate (enter 0 to quit): yes\n",
      "yes translates to sí\n",
      "Enter an English word to translate (enter 0 to quit): hey\n",
      "Sorry, hey is not in the dictionary.\n",
      "Enter an English word to translate (enter 0 to quit): 0\n"
     ]
    }
   ],
   "source": [
    "dictionary = {\n",
    "    \"hello\": \"hola\",\n",
    "    \"goodbye\": \"adiós\",\n",
    "    \"please\": \"por favor\",\n",
    "    \"thank you\": \"gracias\",\n",
    "    \"yes\": \"sí\",\n",
    "    \"no\": \"no\",\n",
    "    \"dog\": \"perro\",\n",
    "    \"cat\": \"gato\",\n",
    "    \"book\": \"libro\",\n",
    "    \"computer\": \"computadora\"\n",
    "}\n",
    "\n",
    "while True:\n",
    "    word = input(\"Enter an English word to translate (enter 0 to quit): \")\n",
    "    if word == \"0\":\n",
    "        break\n",
    "    elif word.lower() in dictionary:\n",
    "        print(f\"{word} translates to {dictionary[word.lower()]}\")\n",
    "    else:\n",
    "        print(f\"Sorry, {word} is not in the dictionary.\")\n"
   ]
  },
  {
   "cell_type": "code",
   "execution_count": 17,
   "id": "e3b15fb9",
   "metadata": {},
   "outputs": [
    {
     "ename": "SyntaxError",
     "evalue": "invalid syntax (453678547.py, line 35)",
     "output_type": "error",
     "traceback": [
      "\u001b[0;36m  File \u001b[0;32m\"/var/folders/5n/xr01gjrn7rv5gs_sjffmxmzc0000gn/T/ipykernel_64018/453678547.py\"\u001b[0;36m, line \u001b[0;32m35\u001b[0m\n\u001b[0;31m    print(\"on january\",int(input()), \"the temperature on day\", {day}, \"was\", {celsius:.1f}, \"degrees Celsius.\")\u001b[0m\n\u001b[0m                                                                                        ^\u001b[0m\n\u001b[0;31mSyntaxError\u001b[0m\u001b[0;31m:\u001b[0m invalid syntax\n"
     ]
    }
   ],
   "source": [
    "temp_dict = {\n",
    "    1: 56,\n",
    "    2: 45,\n",
    "    3: 68,\n",
    "    4: 32,\n",
    "    5: 41,\n",
    "    6: 48,\n",
    "    7: 57,\n",
    "    8: 63,\n",
    "    9: 37,\n",
    "    10: 25,\n",
    "    11: 31,\n",
    "    12: 34,\n",
    "    13: 29,\n",
    "    14: 27,\n",
    "    15: 39,\n",
    "    16: 46,\n",
    "    17: 51,\n",
    "    18: 36,\n",
    "    19: 23,\n",
    "    20: 28,\n",
    "    21: 32,\n",
    "    22: 40,\n",
    "    23: 49,\n",
    "    24: 54,\n",
    "    25: 36,\n",
    "    26: 18,\n",
    "    27: 23,\n",
    "    28: 28,\n",
    "}\n",
    "\n",
    "for day, fahrenheit in temp_dict.items():\n",
    "    celsius = (fahrenheit - 32) * 5/9\n",
    "    temp_dict[day] = celsius\n",
    "    print(\"on january\",int(input()), \"the temperature on day\", {day}, \"was\", {celsius:.1f}, \"degrees Celsius.\")\n",
    "\n",
    "\n"
   ]
  },
  {
   "cell_type": "code",
   "execution_count": 3,
   "id": "995add45",
   "metadata": {},
   "outputs": [
    {
     "name": "stdout",
     "output_type": "stream",
     "text": [
      "{1: 1, 2: 4, 3: 9, 4: 16, 5: 25, 6: 36, 7: 49, 8: 64, 9: 81, 10: 100, 11: 121, 12: 144, 13: 169, 14: 196, 15: 225}\n"
     ]
    }
   ],
   "source": [
    "squares_dict = {}\n",
    "\n",
    "for i in range(1, 16):\n",
    "    squares_dict[i] = i ** 2\n",
    "\n",
    "print(squares_dict)\n"
   ]
  },
  {
   "cell_type": "code",
   "execution_count": null,
   "id": "e851180e",
   "metadata": {},
   "outputs": [],
   "source": []
  }
 ],
 "metadata": {
  "kernelspec": {
   "display_name": "Python 3 (ipykernel)",
   "language": "python",
   "name": "python3"
  },
  "language_info": {
   "codemirror_mode": {
    "name": "ipython",
    "version": 3
   },
   "file_extension": ".py",
   "mimetype": "text/x-python",
   "name": "python",
   "nbconvert_exporter": "python",
   "pygments_lexer": "ipython3",
   "version": "3.9.13"
  }
 },
 "nbformat": 4,
 "nbformat_minor": 5
}
